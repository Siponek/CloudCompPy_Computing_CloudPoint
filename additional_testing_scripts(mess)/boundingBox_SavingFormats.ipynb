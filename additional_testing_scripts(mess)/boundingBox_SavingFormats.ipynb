{
 "cells": [
  {
   "cell_type": "markdown",
   "metadata": {},
   "source": [
    "### Load the dependencies\n"
   ]
  },
  {
   "cell_type": "code",
   "execution_count": 27,
   "metadata": {},
   "outputs": [
    {
     "name": "stdout",
     "output_type": "stream",
     "text": [
      "Main : Libs loaded 2022-07-12 15:25:56.183727\n"
     ]
    },
    {
     "name": "stderr",
     "output_type": "stream",
     "text": [
      "c:\\Users\\szinp\\anaconda3\\envs\\CloudComPy39\\lib\\site-packages\\tqdm\\auto.py:22: TqdmWarning: IProgress not found. Please update jupyter and ipywidgets. See https://ipywidgets.readthedocs.io/en/stable/user_install.html\n",
      "  from .autonotebook import tqdm as notebook_tqdm\n"
     ]
    }
   ],
   "source": [
    "import os\n",
    "import sys\n",
    "import math\n",
    "import psutil\n",
    "os.environ[\"_CCTRACE_\"]=\"ON\"\n",
    "# import cloudComPy as cc\n",
    "import numpy as np\n",
    "import matplotlib.pyplot as plt\n",
    "from matplotlib import colors\n",
    "import laspy\n",
    "import tqdm.auto\n",
    "from time import sleep, perf_counter\n",
    "from pathlib import Path\n",
    "from datetime import datetime\n",
    "from multiprocessing import cpu_count\n",
    "from computeclouds import ComputeClouds\n",
    "print(\"Main : Libs loaded\", datetime.now())"
   ]
  },
  {
   "cell_type": "markdown",
   "metadata": {},
   "source": [
    "### Functions\n"
   ]
  },
  {
   "cell_type": "code",
   "execution_count": 2,
   "metadata": {},
   "outputs": [],
   "source": [
    "def incrementParam(param_dic:dict, param_name:str, param_value:int or str) -> dict:\n",
    "    global m3c2_params_dic\n",
    "    m3c2_params_dic[param_name] = param_value\n"
   ]
  },
  {
   "cell_type": "markdown",
   "metadata": {},
   "source": [
    "### TODO\n",
    "```\n",
    "- [ ] Add a function to bound box in txt\n",
    "- [ ] Increment paramters\n",
    "- [ ] Connect functions\n",
    "- [ ] Run the function 100 times\n",
    "\n",
    "\n",
    "```"
   ]
  },
  {
   "cell_type": "markdown",
   "metadata": {},
   "source": [
    "### Paths to files/ meshes/ pointClouds"
   ]
  },
  {
   "cell_type": "markdown",
   "metadata": {},
   "source": [
    "##### TODO - add a functionality to lead from CLI"
   ]
  },
  {
   "cell_type": "code",
   "execution_count": 3,
   "metadata": {},
   "outputs": [
    {
     "name": "stdout",
     "output_type": "stream",
     "text": [
      "Paths are correct 2022-07-12 14:04:02.898498\n"
     ]
    }
   ],
   "source": [
    "path1 = r\"C:\\Users\\szinp\\Desktop\\GIS_PROJECT\\lazorScan_project\\testData\\txtFiles\\1_E_subsample.txt\"\n",
    "path2 = r\"C:\\Users\\szinp\\Desktop\\GIS_PROJECT\\lazorScan_project\\testData\\txtFiles\\2_E_subsample.txt\"\n",
    "\n",
    "assert os.path.isfile(path1)\n",
    "assert os.path.isfile(path2)\n",
    "print(\"Paths are correct\", datetime.now() )"
   ]
  },
  {
   "cell_type": "code",
   "execution_count": 8,
   "metadata": {},
   "outputs": [],
   "source": [
    "path1, path2 = ComputeClouds.createSampleCloud(2,4)"
   ]
  },
  {
   "cell_type": "code",
   "execution_count": 24,
   "metadata": {},
   "outputs": [
    {
     "name": "stdout",
     "output_type": "stream",
     "text": [
      "Data loaded\n",
      "Data1:  874466\n",
      "Data2:  1000000\n",
      "data1_list:  874466\n",
      "data2_list:  1000000\n",
      "data1_list:  [[-5.0, -5.0, 0.14142], [-5.0, -4.99, 0.141557], [-5.0, -4.98, 0.141666], [-5.0, -4.97, 0.141747], [-5.0, -4.96, 0.1418], [-5.0, -4.95, 0.141825], [-5.0, -4.94, 0.141822], [-5.0, -4.93, 0.14179], [-5.0, -4.92, 0.141731], [-5.0, -4.91, 0.141644]]\n",
      "data2_list:  [[-5.0, -5.0, -0.001405], [-5.0, -4.99, 0.002595], [-5.0, -4.98, 0.006597], [-5.0, -4.97, 0.010598], [-5.0, -4.96, 0.014595], [-5.0, -4.95, 0.018584], [-5.0, -4.94, 0.022562], [-5.0, -4.93, 0.026526], [-5.0, -4.92, 0.030473], [-5.0, -4.91, 0.0344]]\n",
      "Execution for this funtion was 9.011645900000076\n"
     ]
    }
   ],
   "source": [
    "Xmin, Xmax, Ymin, Ymax, Zmin, Zmax = -0,3,-0,3,-10,10\n",
    "boundingBox_1 = [Xmin, Xmax, Ymin, Ymax, Zmin, Zmax]\n",
    "time_now = perf_counter()\n",
    "with open(path1, \"r\") as f:\n",
    "    data1 = f.readlines()\n",
    "    with open(path2, \"r\") as f:\n",
    "        data2 = f.readlines()\n",
    "        print(\"Data loaded\")\n",
    "        print(\"Data1: \", len(data1))\n",
    "        print(\"Data2: \", len(data2))\n",
    "\n",
    "\n",
    "        # data1 = [list(map(float, line.split())) for line in data1]\n",
    "        # data2 = [list(map(float, line.split())) for line in data2]\n",
    "\n",
    "        data1_list = []\n",
    "        data2_list = []\n",
    "        for i in range(len(data1)):\n",
    "            data1_list.append(data1[i].split(\" \"))\n",
    "            data1_list[i] = [float(x) for x in data1_list[i]]\n",
    "        for i in range(len(data2)):\n",
    "            data2_list.append(data2[i].split(\" \"))\n",
    "            data2_list[i] = [float(x) for x in data2_list[i]]\n",
    "\n",
    "        print(\"data1_list: \", len(data1_list))\n",
    "        print(\"data2_list: \", len(data2_list))\n",
    "\n",
    "        print(\"data1_list: \", data1_list[:10])\n",
    "        print(\"data2_list: \", data2_list[:10])\n",
    "print(\"Execution for this funtion was\",  perf_counter() - time_now)\n",
    "\n",
    "np.savetxt(\n",
    "    r\"C:\\Users\\szinp\\Desktop\\GIS_PROJECT\\CloudComPy39_20220513\\CloudCompPy_Computing-CloudPoint\\dataFolder\\pythonScripts_testInputs\\1_E_subsample_ORIGINAL.txt\",\n",
    "    data1_list,\n",
    "    delimiter=\" \",\n",
    "    newline=\"\\n\",\n",
    ")\n",
    "np.savetxt(\n",
    "    r\"C:\\Users\\szinp\\Desktop\\GIS_PROJECT\\CloudComPy39_20220513\\CloudCompPy_Computing-CloudPoint\\dataFolder\\pythonScripts_testInputs\\2_E_subsample_ORIGINAL.txt\",\n",
    "    data2_list,\n",
    "    delimiter=\" \",\n",
    "    newline=\"\\n\",\n",
    ")"
   ]
  },
  {
   "cell_type": "code",
   "execution_count": 28,
   "metadata": {},
   "outputs": [
    {
     "name": "stdout",
     "output_type": "stream",
     "text": [
      "Filtering\n"
     ]
    },
    {
     "name": "stderr",
     "output_type": "stream",
     "text": [
      " 10%|\u001b[35m█         \u001b[0m| 90601/874466 [00:01<00:12, 64835.56it/s] \n",
      "  9%|\u001b[36m▉         \u001b[0m| 90601/1000000 [00:01<00:10, 84420.95it/s] \n"
     ]
    },
    {
     "name": "stdout",
     "output_type": "stream",
     "text": [
      "Filtering done\n",
      "filtered_data1_list len:  90601\n",
      "filtered_data2_list len:  90601\n",
      "Execution for this funtion was 2.6883152999998856\n"
     ]
    }
   ],
   "source": [
    "# ********************************************************************************************************************\n",
    "#? Filtering CHAD version\n",
    "# ********************************************************************************************************************\n",
    "time_now = perf_counter()\n",
    "\n",
    "print(\"Filtering\")\n",
    "\n",
    "filtered_data1_list = []\n",
    "filtered_data2_list = []\n",
    "with tqdm.tqdm(total=len(data1_list)) as pbar:\n",
    "    pbar.colour = 'MAGENTA'\n",
    "    for cell_in_data1_list in data1_list:\n",
    "        if cell_in_data1_list[0] > Xmax or cell_in_data1_list[0] < Xmin or cell_in_data1_list[1] > Ymax or cell_in_data1_list[1] < Ymin or cell_in_data1_list[2] > Zmax or cell_in_data1_list[2] < Zmin:\n",
    "            continue\n",
    "        else:\n",
    "            filtered_data1_list.append(cell_in_data1_list)\n",
    "        pbar.update(1)\n",
    "    pbar.close()\n",
    "\n",
    "with tqdm.tqdm(total=len(data2_list)) as pbar:\n",
    "    pbar.colour = 'CYAN'\n",
    "    for cell_in_data2_list in data2_list:\n",
    "        # print(\"cell_in_data2_list: \", cell_in_data2_list)\n",
    "        if cell_in_data2_list[0] > Xmax or cell_in_data2_list[0] < Xmin or cell_in_data2_list[1] > Ymax or cell_in_data2_list[1] < Ymin or cell_in_data2_list[2] > Zmax or cell_in_data2_list[2] < Zmin:\n",
    "            continue\n",
    "        else:\n",
    "            filtered_data2_list.append(cell_in_data2_list)\n",
    "        pbar.update(1)\n",
    "    pbar.close()\n",
    "\n",
    "print(\"Filtering done\")\n",
    "print(\"filtered_data1_list len: \", len(filtered_data1_list))\n",
    "print(\"filtered_data2_list len: \", len(filtered_data2_list))\n",
    "print(\"Execution for this funtion was\",  perf_counter() - time_now)\n",
    "\n",
    "np.savetxt(\n",
    "    r\"C:\\Users\\szinp\\Desktop\\GIS_PROJECT\\CloudComPy39_20220513\\CloudCompPy_Computing-CloudPoint\\dataFolder\\pythonScripts_testInputs\\1_E_subsample_testFunc2.txt\",\n",
    "    filtered_data1_list,\n",
    "    delimiter=\" \",\n",
    "    newline=\"\\n\",\n",
    ")\n",
    "\n",
    "np.savetxt(\n",
    "    r\"C:\\Users\\szinp\\Desktop\\GIS_PROJECT\\CloudComPy39_20220513\\CloudCompPy_Computing-CloudPoint\\dataFolder\\pythonScripts_testInputs\\2_E_subsample_testFunc2.txt\",\n",
    "    filtered_data2_list,\n",
    "    delimiter=\" \",\n",
    "    newline=\"\\n\",\n",
    ")\n"
   ]
  },
  {
   "cell_type": "markdown",
   "metadata": {},
   "source": [
    "## Load the data into CloudComPy module"
   ]
  },
  {
   "cell_type": "code",
   "execution_count": null,
   "metadata": {},
   "outputs": [],
   "source": [
    "cloud1 = path1\n",
    "cloud2 = path2"
   ]
  },
  {
   "cell_type": "markdown",
   "metadata": {},
   "source": [
    "### Using M3C2 script to calculate the differences between the two clouds"
   ]
  },
  {
   "cell_type": "markdown",
   "metadata": {},
   "source": [
    "#### Creating parameters for M3C2 script"
   ]
  },
  {
   "cell_type": "code",
   "execution_count": null,
   "metadata": {},
   "outputs": [
    {
     "name": "stdout",
     "output_type": "stream",
     "text": [
      "Writing parameters to c:\\Users\\szinp\\Desktop\\GIS_PROJECT\\CloudComPy39_20220513\\CloudCompPy_Computing-CloudPoint\\dataFolder\\PythonParameters\\m3c2_params.txt\n"
     ]
    }
   ],
   "source": [
    "m3c2_params_dic={}\n",
    "\n",
    "m3c2_params_dic[\"M3C2VER\"]= 1\n",
    "m3c2_params_dic[\"NormalMode\"]= 0\n",
    "m3c2_params_dic[\"NormalScale\"]= 10.691401\n",
    "m3c2_params_dic[\"NormalMinScale\"]= 5.3457\n",
    "m3c2_params_dic[\"NormalStep\"]= 5.3457\n",
    "m3c2_params_dic[\"NormalMaxScale\"]= 21.382801\n",
    "m3c2_params_dic[\"SearchScale\"]= 5.3457\n",
    "m3c2_params_dic[\"SearchDepth\"]= 41.898286\n",
    "m3c2_params_dic[\"SubsampleRadius\"]= 2.67285\n",
    "m3c2_params_dic[\"NormalPreferedOri\"]= 4\n",
    "m3c2_params_dic[\"NormalUseCorePoints\"]= \"true\"\n",
    "m3c2_params_dic[\"SubsampleEnabled\"]= \"false\"\n",
    "m3c2_params_dic[\"RegistrationError\"]= 0\n",
    "m3c2_params_dic[\"RegistrationErrorEnabled\"]= \"false\"\n",
    "m3c2_params_dic[\"UseSinglePass4Depth\"]= \"false\"\n",
    "m3c2_params_dic[\"PositiveSearchOnly\"]= \"false\"\n",
    "m3c2_params_dic[\"UseMedian\"]= \"false\"\n",
    "m3c2_params_dic[\"UseMinPoints4Stat\"]= \"false\"\n",
    "m3c2_params_dic[\"MinPoints4Stat\"]= 5\n",
    "m3c2_params_dic[\"ProjDestIndex\"]= 1\n",
    "m3c2_params_dic[\"UseOriginalCloud\"]= \"false\"\n",
    "m3c2_params_dic[\"ExportStdDevInfo\"]= \"true\"\n",
    "m3c2_params_dic[\"ExportDensityAtProjScale\"]= \"true\"\n",
    "m3c2_params_dic[\"MaxThreadCount\"]= 4\n",
    "m3c2_params_dic[\"UsePrecisionMaps\"]= \"false\"\n",
    "m3c2_params_dic[\"PM1Scale\"]= 1\n",
    "m3c2_params_dic[\"PM2Scale\"]= 1\n"
   ]
  },
  {
   "cell_type": "code",
   "execution_count": null,
   "metadata": {},
   "outputs": [],
   "source": [
    "paramFilename =os.path.abspath(\"\") + \"\\dataFolder\\PythonParameters\\m3c2_params.txt\"\n",
    "# paramFilename =os.path.abspath(\"\") + r'\\dataFolder\\PythonParameters\\bigData_1_m3c2_params.txt'\n",
    "print(f\"Writing parameters to {paramFilename}\")\n",
    "assert os.path.isfile(paramFilename), \"File does not exist\"\n",
    "\n",
    "with open(paramFilename, 'w') as f:\n",
    "    f.write(\"[General]\\n\")\n",
    "    for key,value in m3c2_params_dic.items():\n",
    "        f.write(\"%s=%s\\n\"%(key,value))"
   ]
  },
  {
   "cell_type": "code",
   "execution_count": null,
   "metadata": {},
   "outputs": [],
   "source": [
    "\n",
    "paramFilename =os.path.abspath(\"\") + \"\\dataFolder\\PythonParameters\\m3c2_params.txt\"\n",
    "# paramFilename =os.path.abspath(\"\") + r'\\dataFolder\\PythonParameters\\bigData_1_m3c2_params.txt'\n",
    "print(f\"Writing parameters to {paramFilename}\")\n",
    "assert os.path.isfile(paramFilename), \"File does not exist\"\n",
    "\n",
    "with open(paramFilename, 'w') as f:\n",
    "    f.write(\"[General]\\n\")\n",
    "    for key,value in m3c2_params_dic.items():\n",
    "        f.write(\"%s=%s\\n\"%(key,value))"
   ]
  },
  {
   "cell_type": "code",
   "execution_count": null,
   "metadata": {},
   "outputs": [],
   "source": [
    "ComputeClouds.calcM3C2( cloud1, cloud2, paramFilename)"
   ]
  }
 ],
 "metadata": {
  "kernelspec": {
   "display_name": "Python 3.9.7 ('CloudComPy39')",
   "language": "python",
   "name": "python3"
  },
  "language_info": {
   "codemirror_mode": {
    "name": "ipython",
    "version": 3
   },
   "file_extension": ".py",
   "mimetype": "text/x-python",
   "name": "python",
   "nbconvert_exporter": "python",
   "pygments_lexer": "ipython3",
   "version": "3.9.7"
  },
  "orig_nbformat": 4,
  "vscode": {
   "interpreter": {
    "hash": "b6edfd18c23f1977573ae167478fba97ce460a232ec94f55e6f77f6fa0ebec54"
   }
  }
 },
 "nbformat": 4,
 "nbformat_minor": 2
}

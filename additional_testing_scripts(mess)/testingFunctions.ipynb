{
 "cells": [
  {
   "cell_type": "code",
   "execution_count": null,
   "metadata": {},
   "outputs": [],
   "source": []
  },
  {
   "cell_type": "markdown",
   "metadata": {},
   "source": [
    "### Loading libs"
   ]
  },
  {
   "cell_type": "code",
   "execution_count": null,
   "metadata": {},
   "outputs": [],
   "source": [
    "### Testing simple mesh substraction\n",
    "\n",
    "import os\n",
    "import sys\n",
    "import math\n",
    "# import gendata as gen\n",
    "import numpy as np\n",
    "import matplotlib\n",
    "import matplotlib.pyplot as plt\n",
    "from matplotlib import colors\n",
    "import laspy\n",
    "# import cloudComPy as cc \n",
    "import psutil\n",
    "from scipy import stats\n",
    "\n",
    "print(\"Libs loaded\")"
   ]
  },
  {
   "cell_type": "markdown",
   "metadata": {},
   "source": [
    "### Functions"
   ]
  },
  {
   "cell_type": "code",
   "execution_count": null,
   "metadata": {},
   "outputs": [],
   "source": [
    "def giveSpherePath(x:float = 0, y:float = 0, z:float = 0 , r:float = 10, num:int = 100, dx:float = 0.1, h:float = 5):\n",
    "    \"\"\"give_sphere Create a sphere point cloud\n",
    "    Parameters\"\"\"\n",
    "    dataDir = os.path.join(os.environ[\"USERPROFILE\"], \"CloudComPy/data\")\n",
    "    print(\"dataDir: \", dataDir)\n",
    "    if not os.path.exists(dataDir):\n",
    "        os.makedirs(dataDir)\n",
    "    # points = []\n",
    "    # for i in range(0, num):\n",
    "    #     factor = stats.norm.pdf((np.arange(-5, 5, 0.001)), 0, 1)\n",
    "    #     # factor = normedgauss()        # A value between 0 and 1 following a gaussian\n",
    "    #     ir = r * factor\n",
    "    #     itheta = np.arccos(np.random.uniform(-1, 1))\n",
    "    #     iphi = np.random.uniform(0, 2 * np.pi)\n",
    "    #     ix = x + ir * np.sin(itheta) * np.cos(iphi)\n",
    "    #     iy = y + ir * np.sin(itheta) * np.sin(iphi)\n",
    "    #     iz = z + ir * np.cos(itheta)\n",
    "    #     points.append((ix, iy, iz))\n",
    "\n",
    "    dataName = \"dataSample_%s.xyz\" % h\n",
    "    if dx != 0:\n",
    "        dataName = \"dataSample_%s_%s.xyz\" % (h,dx)\n",
    "    sample = os.path.join(dataDir, dataName)\n",
    "    vx = np.array([])\n",
    "    vy = np.array([])\n",
    "    if not os.path.exists(sample):\n",
    "        print(\"Generating data: start X and Y!\")\n",
    "        for i in range(0, num):\n",
    "            factor = stats.norm.pdf((np.arange(-5, 5, 0.001)), 0, 1)\n",
    "            ir = r * factor\n",
    "            itheta = np.arccos(np.random.uniform(-1, 1))\n",
    "            iphi = np.random.uniform(0, 2 * np.pi)\n",
    "            vx = np.append(arr = vx, values =  x + ir * np.sin(itheta) * np.cos(iphi))\n",
    "            vy = np.append(arr = vy, values = y + ir * np.sin(itheta) * np.sin(iphi))\n",
    "        print(\"Generating data: X and Y done!\")\n",
    "\n",
    "        with open(sample, 'w') as f:\n",
    "            for xCoord in vx:\n",
    "                for yCoord in vy:\n",
    "                    zCoord = math.sin(h * math.sqrt(xCoord**2 + yCoord**2)) / math.sqrt(xCoord**2 + yCoord**2)\n",
    "                    f.write(\"%f %f %f\\n\" % (xCoord, yCoord, zCoord))\n",
    "                print(\"Generating data: Z done!\")\n",
    "    return sample"
   ]
  },
  {
   "cell_type": "code",
   "execution_count": null,
   "metadata": {},
   "outputs": [],
   "source": [
    "def createParamFile(paramFilename:str)->str:\n",
    "    from multiprocessing import cpu_count\n",
    "    m3c2_params_dic={}\n",
    "    m3c2_params_dic[\"ExportDensityAtProjScale\"] = \"false\"\n",
    "    m3c2_params_dic[\"ExportStdDevInfo\"] = \"false\"\n",
    "    m3c2_params_dic[\"M3C2VER\"] = 1\n",
    "    m3c2_params_dic[\"MaxThreadCount\"] = cpu_count()\n",
    "    m3c2_params_dic[\"MinPoints4Stat\"] = 5\n",
    "    m3c2_params_dic[\"NormalMaxScale\"] = 0.283607\n",
    "    m3c2_params_dic[\"NormalMinScale\"] = 0.070902\n",
    "    m3c2_params_dic[\"NormalMode\"] = 0\n",
    "    m3c2_params_dic[\"NormalPreferedOri\"] = 4\n",
    "    m3c2_params_dic[\"NormalScale\"] = 0.141803\n",
    "    m3c2_params_dic[\"NormalStep\"] = 0.070902\n",
    "    m3c2_params_dic[\"NormalUseCorePoints\"] = \"false\"\n",
    "    m3c2_params_dic[\"PM1Scale\"] = 1\n",
    "    m3c2_params_dic[\"PM2Scale\"] = 1\n",
    "    m3c2_params_dic[\"PositiveSearchOnly\"] = \"false\"\n",
    "    m3c2_params_dic[\"ProjDestIndex\"] = 1\n",
    "    m3c2_params_dic[\"RegistrationError\"] = 0\n",
    "    m3c2_params_dic[\"RegistrationErrorEnabled\"] = \"false\"\n",
    "    m3c2_params_dic[\"SearchDepth\"] = 0.709017\n",
    "    m3c2_params_dic[\"SearchScale\"] = 0.141803\n",
    "    m3c2_params_dic[\"SubsampleEnabled\"] = \"true\"\n",
    "    m3c2_params_dic[\"SubsampleRadius\"] = 0.070902\n",
    "    m3c2_params_dic[\"UseMedian\"] = \"false\"\n",
    "    m3c2_params_dic[\"UseMinPoints4Stat\"] = \"false\"\n",
    "    m3c2_params_dic[\"UseOriginalCloud\"] = \"false\"\n",
    "    m3c2_params_dic[\"UsePrecisionMaps\"] = \"false\"\n",
    "    m3c2_params_dic[\"UseSinglePass4Depth\"] = \"false\"\n",
    "    paramFilename =os.path.join(os.path.abspath(\"/\"), paramFilename)\n",
    "    # paramFilename =os.path.abspath(\"\") + r'\\dataFolder\\PythonParameters\\bigData_1_m3c2_params.txt'\n",
    "    print(f\"Writing parameters to {paramFilename}\")\n",
    "    assert os.path.isfile(paramFilename)\n",
    "    with open(paramFilename, 'w') as f:\n",
    "        f.write(\"[General]\\n\")\n",
    "        for k,v in m3c2_params_dic.items():\n",
    "            f.write(\"%s=%s\\n\"%(k,v))\n",
    "    return paramFilename"
   ]
  },
  {
   "cell_type": "code",
   "execution_count": null,
   "metadata": {},
   "outputs": [],
   "source": [
    "import pathlib"
   ]
  },
  {
   "cell_type": "code",
   "execution_count": null,
   "metadata": {},
   "outputs": [],
   "source": [
    "paramFilename=\"soloYolo.las\"\n",
    "# paramFilename =os.path.join(os.path.abspath(\"\"), \"/dataOutput/\"+paramFilename)\n",
    "paramFilename = pathlib.Path()\n",
    "print(f\"Writing parameters to {paramFilename}\")"
   ]
  },
  {
   "cell_type": "markdown",
   "metadata": {},
   "source": [
    "### Checking paths"
   ]
  },
  {
   "cell_type": "code",
   "execution_count": null,
   "metadata": {},
   "outputs": [],
   "source": [
    "path1 = r\"C:\\Users\\szinp\\Desktop\\CloudComPy39_20220513\\CloudCompPy_Computing-CloudPoint\\\\testSphere_1.txt\"\n",
    "path2 = r\"C:\\Users\\szinp\\Desktop\\CloudComPy39_20220513\\CloudCompPy_Computing-CloudPoint\\\\testSphere_2.txt\"\n",
    "\n",
    "assert os.path.isfile(path1)\n",
    "assert os.path.isfile(path2)\n",
    "print(\"Paths are correct\")"
   ]
  },
  {
   "cell_type": "markdown",
   "metadata": {},
   "source": [
    "### Loading data into CloudComPy"
   ]
  },
  {
   "cell_type": "code",
   "execution_count": null,
   "metadata": {},
   "outputs": [],
   "source": [
    "# os.environ[\"_CCTRACE_\"]=\"ON\"                                           # only if you want debug traces from C++\n",
    "\n",
    "# gen.createSymbolicLinks() # required for tests on build, before cc.initCC.init\n",
    "cc.initCC()\n",
    "#TODO find a way to load a las file into this cloudComPy\n",
    "cloud1 = cc.loadPointCloud(path1)\n",
    "cloud2 = cc.loadPointCloud(path2)\n",
    "# cloud = cc.loadPointCloud(giveSpherePath(num=5))\n",
    "#TODO Slice the point cloud???"
   ]
  },
  {
   "cell_type": "markdown",
   "metadata": {},
   "source": [
    "### Creating the mesh form cloud point data"
   ]
  },
  {
   "cell_type": "code",
   "execution_count": null,
   "metadata": {},
   "outputs": [],
   "source": [
    "if cc.isPluginMeshBoolean():\n",
    "    import cloudComPy.MeshBoolean\n",
    "    # cc.MeshBoolean.computeMeshBoolean(...)\n",
    "\n",
    "# meshFromCloud1 = cc.ccMesh.triangulate(cloud = cloud1, type = cc.TRIANGULATION_TYPES.DELAUNAY_2D_BEST_LS_PLANE )\n",
    "# meshFromCloud2 = cc.ccMesh.triangulate(cloud = cloud2, type = cc.TRIANGULATION_TYPES.DELAUNAY_2D_BEST_LS_PLANE )\n",
    "meshFromCloud1 = cc.ccMesh.triangulate(cloud = cloud1, type = cc.TRIANGULATION_TYPES.DELAUNAY_2D_AXIS_ALIGNED, updateNormals = True ,  dim =2)\n",
    "meshFromCloud2 = cc.ccMesh.triangulate(cloud = cloud2, type = cc.TRIANGULATION_TYPES.DELAUNAY_2D_AXIS_ALIGNED, updateNormals = True ,  dim = 2 )\n",
    "\n",
    "#? cc.RasterizeToMesh(...) might be useful for rasterizing a cloud to a mesh\n",
    "\n",
    "print(type(meshFromCloud1))\n",
    "print(type(meshFromCloud2))\n"
   ]
  },
  {
   "cell_type": "markdown",
   "metadata": {},
   "source": [
    "### Creating a boolean intersection of meshes"
   ]
  },
  {
   "cell_type": "code",
   "execution_count": null,
   "metadata": {},
   "outputs": [],
   "source": [
    "# DIFF= cloudComPy.MeshBoolean._MeshBoolean.CSG_OPERATION.DIFF\n",
    "# INTERSEC= cloudComPy.MeshBoolean._MeshBoolean.CSG_OPERATION.INTERSECT\n",
    "# SYM_DIFF= cloudComPy.MeshBoolean._MeshBoolean.CSG_OPERATION.SYM_DIFF\n",
    "# UNION= cloudComPy.MeshBoolean._MeshBoolean.CSG_OPERATION.UNION\n",
    "\n",
    "# names= {'DIFF': cloudComPy.MeshBoolean._MeshBoolean.CSG_OPERATION.DIFF,\n",
    "# 'INTERSECT': cloudComPy.MeshBoolean._MeshBoolean.CSG_OPERATION.INTERSECT,\n",
    "#  'SYM_DIFF': cloudComPy.MeshBoolean._MeshBoolean.CSG_OPERATION.SYM_DIFF, \n",
    "#  'UNION': cloudComPy.MeshBoolean._MeshBoolean.CSG_OPERATION.UNION}\n",
    " \n",
    "# values= {0: cloudComPy.MeshBoolean._MeshBoolean.CSG_OPERATION.UNION, \n",
    "# 1: cloudComPy.MeshBoolean._MeshBoolean.CSG_OPERATION.INTERSECT, \n",
    "# 2: cloudComPy.MeshBoolean._MeshBoolean.CSG_OPERATION.DIFF, \n",
    "# 3: cloudComPy.MeshBoolean._MeshBoolean.CSG_OPERATION.SYM_DIFF}"
   ]
  },
  {
   "cell_type": "code",
   "execution_count": null,
   "metadata": {},
   "outputs": [],
   "source": [
    "operationType = cc.MeshBoolean.CSG_OPERATION.INTERSECT\n",
    "# print(operationType.INTERSECT)\n",
    "# print(operationType.as_integer_ratio)\n",
    "# print(operationType.name)\n",
    "# print(type(operationType))\n",
    "#? Does not work with large meshes\n",
    "#? cc.MeshBoolean.computeMeshBoolean(...) since it does not work properly will try to use ANOTHER libary - PyMesh for that matter\n",
    "\n",
    "cloudIntersectionMesh = cc.MeshBoolean.computeMeshBoolean( meshFromCloud1,  meshFromCloud2,  operationType)\n",
    "# mesh = cc.MeshBoolean.computeMeshBoolean(sphere, cylinder, cc.MeshBoolean.CSG_OPERATION.INTERSECT)\n",
    "\n",
    "# # cloudIntersectionMesh = cc.MeshBoolean.computeMeshBoolean(meshFromCloud1, meshFromCloud2,cc.MeshBoolean.CSG_OPERATION.DIFF)\n",
    "print(type(cloudIntersectionMesh))\n",
    "print(cloudIntersectionMesh)"
   ]
  },
  {
   "cell_type": "markdown",
   "metadata": {},
   "source": []
  },
  {
   "cell_type": "markdown",
   "metadata": {},
   "source": [
    "### Gathering points/verts data from final mesh"
   ]
  },
  {
   "cell_type": "code",
   "execution_count": null,
   "metadata": {},
   "outputs": [],
   "source": [
    "#TODO\n",
    "# pointCloudOfIntersection = cloudIntersectionMesh.getAssociatedCloud()"
   ]
  },
  {
   "cell_type": "markdown",
   "metadata": {},
   "source": [
    "### Saving the results"
   ]
  },
  {
   "cell_type": "code",
   "execution_count": null,
   "metadata": {},
   "outputs": [],
   "source": [
    "# cloudIntersection.setName(\"cloudIntersection\")\n",
    "\n",
    "meshFromCloud1.setName(\"cloud1\")\n",
    "meshFromCloud2.setName(\"cloud2\")\n",
    "print(cc.SaveMesh(meshFromCloud1, \"cloud1.ply\"))\n",
    "print(cc.SaveMesh(meshFromCloud2, \"cloud2.ply\"))\n",
    "# cloudIntersection = cc.subtractClouds(cloud1, cloud2)\n",
    "# cloudIntersection.save(\"testSubstract.las\")"
   ]
  },
  {
   "cell_type": "markdown",
   "metadata": {},
   "source": [
    "### Creating primitives"
   ]
  },
  {
   "cell_type": "code",
   "execution_count": null,
   "metadata": {},
   "outputs": [],
   "source": [
    "# # ccGLMatrix() is a transformation matrix?\n",
    "# tr1 = cc.ccGLMatrix()\n",
    "# tr1.initFromParameters(0.1, 0.2, 0.3, (8.0, 0.0, 0.0))\n",
    "# box = cc.ccBox((1., 2., 3.), tr1, \"aBox\")\n",
    "# if box.getName() != 'aBox':\n",
    "#     raise RuntimeError\n",
    "# if box.size() != 12:\n",
    "#     raise RuntimeError\n",
    "\n",
    "# tr5 = cc.ccGLMatrix()\n",
    "# tr5.initFromParameters(0.0, (0., 0., 0.), (-7.0, 5.0, 1.0))\n",
    "# sphere = cc.ccSphere(1.5, tr5, \"aSphere\", 72)\n",
    "# if sphere.getName() != 'aSphere':\n",
    "#     raise RuntimeError\n",
    "# if sphere.size() != 10224:\n",
    "#     raise RuntimeError\n",
    "# #! The IP is 192.168.2.99\n",
    "# #! User:user\n",
    "# #! PSW: gtergvi"
   ]
  },
  {
   "cell_type": "markdown",
   "metadata": {},
   "source": [
    "### Computing approximate Cloud distance to mesh\n",
    "[]: # Language: python\n",
    "[]: # Path: testingFunctions.ipynb"
   ]
  },
  {
   "cell_type": "code",
   "execution_count": null,
   "metadata": {},
   "outputs": [],
   "source": [
    "# stats = cc.DistanceComputationTools.computeApproxCloud2MeshDistance(cloud, sphere)\n",
    "# print(stats) # min, max, mean, variance, error max\n",
    "# nbCpu = psutil.cpu_count()\n",
    "# bestOctreeLevel = cc.DistanceComputationTools.determineBestOctreeLevel(cloud,box)\n",
    "# params = cc.Cloud2MeshDistancesComputationParams()\n",
    "# params.maxThreadCount = nbCpu\n",
    "# params.octreeLevel = bestOctreeLevel\n",
    "# cc.DistanceComputationTools.computeCloud2MeshDistances(cloud, box, params)\n",
    "# bestOctreeLevel = cc.DistanceComputationTools.determineBestOctreeLevel(box.getAssociatedCloud(), sphere)\n",
    "# params.octreeLevel = bestOctreeLevel\n",
    "# cc.DistanceComputationTools.computeCloud2MeshDistances(sphere.getAssociatedCloud(), sphere, params)"
   ]
  },
  {
   "cell_type": "code",
   "execution_count": null,
   "metadata": {},
   "outputs": [],
   "source": [
    "# cc.SaveEntities([cloud, box, sphere], os.path.join(\"\", \"entities2.bin\"))"
   ]
  },
  {
   "cell_type": "code",
   "execution_count": null,
   "metadata": {},
   "outputs": [],
   "source": [
    "import os\n",
    "import sys\n",
    "import math\n",
    "\n",
    "os.environ[\"_CCTRACE_\"]=\"ON\" # only if you want C++ debug traces\n",
    "\n",
    "from gendata import dataDir\n",
    "\n",
    "import cloudComPy as cc\n",
    "\n",
    "tr1 = cc.ccGLMatrix()\n",
    "tr1.initFromParameters(0.0, (0., 0., 0.), (1.0, 0.0, 0.0))\n",
    "sphere = cc.ccSphere(2, tr1, \"aSphere\")\n",
    "\n",
    "cylinder = cc.ccCylinder(2.0, 5.0)\n",
    "\n",
    "if cc.isPluginMeshBoolean():\n",
    "    import cloudComPy.MeshBoolean\n",
    "    mesh = cc.MeshBoolean.computeMeshBoolean(sphere, cylinder, cc.MeshBoolean.CSG_OPERATION.INTERSECT)\n",
    "    if mesh.size() != 1020:\n",
    "        raise RuntimeError\n",
    "\n",
    "    cc.SaveEntities([sphere, cylinder, mesh], \"MeshBoolean.bin\")"
   ]
  },
  {
   "cell_type": "code",
   "execution_count": null,
   "metadata": {},
   "outputs": [],
   "source": [
    "from computeclouds import ComputeClouds as cClouds"
   ]
  },
  {
   "cell_type": "code",
   "execution_count": null,
   "metadata": {},
   "outputs": [],
   "source": [
    "path1 , path2 = cClouds.createSampleCloud()\n"
   ]
  },
  {
   "cell_type": "code",
   "execution_count": null,
   "metadata": {},
   "outputs": [],
   "source": [
    "paramsFile = cClouds.writeParamsFile(threadsNum=4)\n"
   ]
  },
  {
   "cell_type": "code",
   "execution_count": null,
   "metadata": {},
   "outputs": [],
   "source": [
    "cClouds.calcM3C2(firstCd=path1, secondCd=path2 , debugTest=False , includeTimestamp=True, parametersConfigFilePath=paramsFile, verbose=True, )"
   ]
  }
 ],
 "metadata": {
  "kernelspec": {
   "display_name": "Python 3.9.7 ('CloudComPy39')",
   "language": "python",
   "name": "python3"
  },
  "language_info": {
   "codemirror_mode": {
    "name": "ipython",
    "version": 3
   },
   "file_extension": ".py",
   "mimetype": "text/x-python",
   "name": "python",
   "nbconvert_exporter": "python",
   "pygments_lexer": "ipython3",
   "version": "3.9.7"
  },
  "orig_nbformat": 4,
  "vscode": {
   "interpreter": {
    "hash": "b6edfd18c23f1977573ae167478fba97ce460a232ec94f55e6f77f6fa0ebec54"
   }
  }
 },
 "nbformat": 4,
 "nbformat_minor": 2
}
